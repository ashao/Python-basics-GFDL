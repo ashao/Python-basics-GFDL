{
 "cells": [
  {
   "cell_type": "markdown",
   "metadata": {},
   "source": [
    "# Python Basic Syntax #\n",
    "\n",
    "Mostly copied from:\n",
    "* [Tutorials point](http://www.tutorialspoint.com/python/index.htm)\n",
    "* [official python tutorial](https://docs.python.org/3/tutorial/)\n",
    "* [Python Hour for Oceanographers and Geoscientists (PyHOGs)](http://pyhogs.github.io/python-basics-review.html)"
   ]
  },
  {
   "cell_type": "markdown",
   "metadata": {},
   "source": [
    "## First Python Program ##\n",
    "\n",
    "Let us execute programs in different modes of programming.\n",
    "\n",
    "* <b> Interactive Mode Programming </b>\n",
    "\n",
    "Invoking the interpreter without passing a script file as a parameter (open a terminal and type \"python\" or \"ipython\") brings up the following prompt:\n",
    "<code>\n",
    "$ python\n",
    "Python 2.4.3 (#1, Nov 11 2010, 13:34:43)\n",
    "[GCC 4.1.2 20080704 (Red Hat 4.1.2-48)] on linux2\n",
    "Type \"help\", \"copyright\", \"credits\" or \"license\" for more information.\n",
    "\\>>>\n",
    "</code>\n",
    "\n",
    "* <b> Script Mode Programming </b>\n",
    "\n",
    "Invoking the interpreter with a script parameter begins execution of the script and continues until the script is finished. When the script is finished, the interpreter is no longer active.\n",
    "\n",
    "Let us write a simple Python program in a script. Python files have extension <b>.py</b>. Type the following source code in a test.py file:\n",
    "<code>\n",
    "print \"Hello, Python!\"\n",
    "</code>\n",
    "Now, open a terminal try to run this program as follows:\n",
    "<code>\n",
    "$ python test.py\n",
    "</code>\n",
    "\n",
    "Let us try another way to execute a Python script. Here is the modified test.py file:\n",
    "<code>\n",
    "\\#!/usr/bin/python\n",
    "print \"Hello, Python!\"\n",
    "</code>\n",
    "\n",
    "Now, try to run this program as follows:\n",
    "<code>\n",
    "$ chmod +x test.py     \\# This is to make file executable\n",
    "$./test.py\n",
    "</code>\n",
    "\n",
    "* <b>Interactive mode with the the built-in function [execfile()](https://docs.python.org/2/library/functions.html#execfile) </b>\n",
    "\n",
    "Open python (or ipython) and type the following:\n",
    "<code>\n",
    "execfile('test.py')\n",
    "</code>"
   ]
  },
  {
   "cell_type": "markdown",
   "metadata": {},
   "source": [
    "## Basic Variables Types: Numbers and String ##"
   ]
  },
  {
   "cell_type": "code",
   "execution_count": 34,
   "metadata": {
    "collapsed": false
   },
   "outputs": [],
   "source": [
    "# comments are anything that comes after the \"#\" symbol\n",
    "a = 1       # assign 1 to variable a\n",
    "b = \"hello\" # assign \"hello\" to variable b"
   ]
  },
  {
   "cell_type": "markdown",
   "metadata": {},
   "source": [
    "The following identifiers are used as <b>reserved words</b>, or keywords of the language, and cannot be used as ordinary identifiers. They must be spelled exactly as written here:\n",
    "\n",
    "    False      class      finally    is         return\n",
    "    None       continue   for        lambda     try\n",
    "    True       def        from       nonlocal   while\n",
    "    and        del        global     not        with\n",
    "    as         elif       if         or         yield\n",
    "    assert     else       import     pass\n",
    "    break      except     in         raise\n",
    "    \n",
    "Additionally, the following a built in functions which are always available in your namespace once you open a python interpreter\n",
    "\n",
    "    abs() dict() help() min() setattr() all() dir() hex() next() slice() any()\n",
    "    divmod() id() object() sorted() ascii() enumerate() input() oct() staticmethod()\n",
    "    bin() eval() int() open() str() bool() exec() isinstance() ord() sum() bytearray()\n",
    "    filter() issubclass() pow() super() bytes() float() iter() print() tuple()\n",
    "    callable() format() len() property() type() chr() frozenset() list() range()\n",
    "    vars() classmethod() getattr() locals() repr() zip() compile() globals() map()\n",
    "    reversed() __import__() complex() hasattr() max() round() delattr() hash()\n",
    "    memoryview() set()\n",
    "\n"
   ]
  },
  {
   "cell_type": "code",
   "execution_count": 35,
   "metadata": {
    "collapsed": false
   },
   "outputs": [
    {
     "name": "stdout",
     "output_type": "stream",
     "text": [
      "1\n",
      "hello\n",
      "1 hello\n"
     ]
    }
   ],
   "source": [
    "# how to we see our variables?\n",
    "print a\n",
    "print b\n",
    "print a,b"
   ]
  },
  {
   "cell_type": "markdown",
   "metadata": {},
   "source": [
    "ps: in python3, the print statement has been replaced with a <a href=\"https://docs.python.org/3/whatsnew/3.0.html#print-is-a-function\">print()</a> function."
   ]
  },
  {
   "cell_type": "markdown",
   "metadata": {},
   "source": [
    "All variables are objects. Every object has a type (class). To find out what type your variables are"
   ]
  },
  {
   "cell_type": "code",
   "execution_count": 36,
   "metadata": {
    "collapsed": false
   },
   "outputs": [
    {
     "name": "stdout",
     "output_type": "stream",
     "text": [
      "<type 'int'>\n",
      "<type 'str'>\n"
     ]
    }
   ],
   "source": [
    "print(type(a))\n",
    "print(type(b))"
   ]
  },
  {
   "cell_type": "code",
   "execution_count": 37,
   "metadata": {
    "collapsed": false
   },
   "outputs": [
    {
     "data": {
      "text/plain": [
       "str"
      ]
     },
     "execution_count": 37,
     "metadata": {},
     "output_type": "execute_result"
    }
   ],
   "source": [
    "# as a shortcut, iPython notebooks will automatically print whatever is on the last line\n",
    "type(b)"
   ]
  },
  {
   "cell_type": "code",
   "execution_count": 38,
   "metadata": {
    "collapsed": false
   },
   "outputs": [
    {
     "name": "stdout",
     "output_type": "stream",
     "text": [
      "True\n",
      "False\n"
     ]
    }
   ],
   "source": [
    "# we can check for the type of an object\n",
    "print type(a) is int\n",
    "print type(a) is str"
   ]
  },
  {
   "cell_type": "markdown",
   "metadata": {},
   "source": [
    "Different objects attributes and methods, which can be accessed via the syntax ``variable.method``\n",
    "\n",
    "IPython will autocomplete if you press ``<tab>`` to show you the methods available."
   ]
  },
  {
   "cell_type": "code",
   "execution_count": 21,
   "metadata": {
    "collapsed": false
   },
   "outputs": [
    {
     "data": {
      "text/plain": [
       "<function capitalize>"
      ]
     },
     "execution_count": 21,
     "metadata": {},
     "output_type": "execute_result"
    }
   ],
   "source": [
    "# this returns the method itself\n",
    "b.capitalize"
   ]
  },
  {
   "cell_type": "code",
   "execution_count": 8,
   "metadata": {
    "collapsed": false
   },
   "outputs": [
    {
     "data": {
      "text/plain": [
       "'Hello'"
      ]
     },
     "execution_count": 8,
     "metadata": {},
     "output_type": "execute_result"
    }
   ],
   "source": [
    "# this calls the method\n",
    "b.capitalize()\n",
    "# there are lots of other methods"
   ]
  },
  {
   "cell_type": "code",
   "execution_count": 23,
   "metadata": {
    "collapsed": false
   },
   "outputs": [
    {
     "name": "stdout",
     "output_type": "stream",
     "text": [
      "helloWorld\n",
      "3\n"
     ]
    },
    {
     "ename": "TypeError",
     "evalue": "unsupported operand type(s) for +: 'int' and 'str'",
     "output_type": "error",
     "traceback": [
      "\u001b[1;31m---------------------------------------------------------------------------\u001b[0m",
      "\u001b[1;31mTypeError\u001b[0m                                 Traceback (most recent call last)",
      "\u001b[1;32m<ipython-input-23-49472dd0a2c1>\u001b[0m in \u001b[0;36m<module>\u001b[1;34m()\u001b[0m\n\u001b[0;32m      3\u001b[0m \u001b[1;32mprint\u001b[0m \u001b[0mb\u001b[0m \u001b[1;33m+\u001b[0m \u001b[0mc\u001b[0m\u001b[1;33m\u001b[0m\u001b[0m\n\u001b[0;32m      4\u001b[0m \u001b[1;32mprint\u001b[0m \u001b[0ma\u001b[0m \u001b[1;33m+\u001b[0m \u001b[1;36m2\u001b[0m\u001b[1;33m\u001b[0m\u001b[0m\n\u001b[1;32m----> 5\u001b[1;33m \u001b[1;32mprint\u001b[0m \u001b[1;33m(\u001b[0m\u001b[0ma\u001b[0m \u001b[1;33m+\u001b[0m \u001b[0mb\u001b[0m\u001b[1;33m)\u001b[0m\u001b[1;33m\u001b[0m\u001b[0m\n\u001b[0m",
      "\u001b[1;31mTypeError\u001b[0m: unsupported operand type(s) for +: 'int' and 'str'"
     ]
    }
   ],
   "source": [
    "# binary operations act differently on different types of objects\n",
    "c = 'World'\n",
    "print b + c\n",
    "print a + 2\n",
    "print (a + b)"
   ]
  },
  {
   "cell_type": "markdown",
   "metadata": {},
   "source": [
    "## Indentation ##\n",
    "Python uses indentation to indicate blocks of code, such as if statements, for loops and functions. For example, a simple but syntactically correct if statement would be:"
   ]
  },
  {
   "cell_type": "code",
   "execution_count": 26,
   "metadata": {
    "collapsed": false
   },
   "outputs": [
    {
     "name": "stdout",
     "output_type": "stream",
     "text": [
      "20\n",
      "This is a number larger than 10.\n"
     ]
    }
   ],
   "source": [
    "x = 20\n",
    "if x > 10:\n",
    "    print x \n",
    "    print \"This is a number larger than 10.\""
   ]
  },
  {
   "cell_type": "markdown",
   "metadata": {},
   "source": [
    "In Python, indentation is strictly enforced. For example, the following would produce an error:"
   ]
  },
  {
   "cell_type": "code",
   "execution_count": 27,
   "metadata": {
    "collapsed": false
   },
   "outputs": [
    {
     "ename": "IndentationError",
     "evalue": "unexpected indent (<ipython-input-27-b73eaabbbd02>, line 5)",
     "output_type": "error",
     "traceback": [
      "\u001b[1;36m  File \u001b[1;32m\"<ipython-input-27-b73eaabbbd02>\"\u001b[1;36m, line \u001b[1;32m5\u001b[0m\n\u001b[1;33m    print \"This line is not properly indented.\"\u001b[0m\n\u001b[1;37m    ^\u001b[0m\n\u001b[1;31mIndentationError\u001b[0m\u001b[1;31m:\u001b[0m unexpected indent\n"
     ]
    }
   ],
   "source": [
    "\n",
    "x = 20\n",
    "if x > 10:\n",
    "    print x\n",
    "      print \"This line is not properly indented.\""
   ]
  },
  {
   "cell_type": "markdown",
   "metadata": {},
   "source": [
    "By convention, a new block of code is indented by four spaces. Any number of spaces are allowable as long as all statements within the block are indented by the same amount. This is Python's way of forcing users to write more reader friendly code.\n",
    "\n",
    "Also note there is no end statement in the first code snippet. To end an if statement, or any nested block of code, you simply return to the previous indentation:"
   ]
  },
  {
   "cell_type": "markdown",
   "metadata": {},
   "source": [
    "## Math ##\n",
    "\n",
    "Basic arithmetic and boolean logic is part of the core python library."
   ]
  },
  {
   "cell_type": "code",
   "execution_count": 10,
   "metadata": {
    "collapsed": false
   },
   "outputs": [
    {
     "data": {
      "text/plain": [
       "-3"
      ]
     },
     "execution_count": 10,
     "metadata": {},
     "output_type": "execute_result"
    }
   ],
   "source": [
    "# addition / subtraction\n",
    "1+1-5"
   ]
  },
  {
   "cell_type": "code",
   "execution_count": 11,
   "metadata": {
    "collapsed": false
   },
   "outputs": [
    {
     "data": {
      "text/plain": [
       "50"
      ]
     },
     "execution_count": 11,
     "metadata": {},
     "output_type": "execute_result"
    }
   ],
   "source": [
    "# multiplication\n",
    "5 * 10"
   ]
  },
  {
   "cell_type": "code",
   "execution_count": 39,
   "metadata": {
    "collapsed": false
   },
   "outputs": [
    {
     "data": {
      "text/plain": [
       "0"
      ]
     },
     "execution_count": 39,
     "metadata": {},
     "output_type": "execute_result"
    }
   ],
   "source": [
    "# division\n",
    "1/2"
   ]
  },
  {
   "cell_type": "markdown",
   "metadata": {},
   "source": [
    "<font color='red'>Warning!</font> \n",
    "\n",
    "In current versions of Python (<3.0), dividing an integer by an integer will return an integer. You can get unexpected results like the one above. To get the answer you expect, one of the numbers must be a floating point number :"
   ]
  },
  {
   "cell_type": "code",
   "execution_count": 47,
   "metadata": {
    "collapsed": false
   },
   "outputs": [
    {
     "data": {
      "text/plain": [
       "0.5"
      ]
     },
     "execution_count": 47,
     "metadata": {},
     "output_type": "execute_result"
    }
   ],
   "source": [
    "# that was automatically converted to a float\n",
    "1/2."
   ]
  },
  {
   "cell_type": "code",
   "execution_count": 48,
   "metadata": {
    "collapsed": false
   },
   "outputs": [
    {
     "data": {
      "text/plain": [
       "16"
      ]
     },
     "execution_count": 48,
     "metadata": {},
     "output_type": "execute_result"
    }
   ],
   "source": [
    "# exponentiation\n",
    "2**4"
   ]
  },
  {
   "cell_type": "code",
   "execution_count": 49,
   "metadata": {
    "collapsed": false
   },
   "outputs": [
    {
     "data": {
      "text/plain": [
       "True"
      ]
     },
     "execution_count": 49,
     "metadata": {},
     "output_type": "execute_result"
    }
   ],
   "source": [
    "# logic\n",
    "True and True"
   ]
  },
  {
   "cell_type": "code",
   "execution_count": 44,
   "metadata": {
    "collapsed": false
   },
   "outputs": [
    {
     "data": {
      "text/plain": [
       "False"
      ]
     },
     "execution_count": 44,
     "metadata": {},
     "output_type": "execute_result"
    }
   ],
   "source": [
    "True and False"
   ]
  },
  {
   "cell_type": "code",
   "execution_count": 45,
   "metadata": {
    "collapsed": false
   },
   "outputs": [
    {
     "data": {
      "text/plain": [
       "True"
      ]
     },
     "execution_count": 45,
     "metadata": {},
     "output_type": "execute_result"
    }
   ],
   "source": [
    "True or True"
   ]
  },
  {
   "cell_type": "code",
   "execution_count": 20,
   "metadata": {
    "collapsed": false
   },
   "outputs": [
    {
     "data": {
      "text/plain": [
       "True"
      ]
     },
     "execution_count": 20,
     "metadata": {},
     "output_type": "execute_result"
    }
   ],
   "source": [
    "(not True) or (not False)"
   ]
  },
  {
   "cell_type": "markdown",
   "metadata": {},
   "source": [
    "## Conditionals ##\n",
    "\n",
    "The first step to programming. Plus an intro to python syntax."
   ]
  },
  {
   "cell_type": "code",
   "execution_count": 21,
   "metadata": {
    "collapsed": false
   },
   "outputs": [
    {
     "name": "stdout",
     "output_type": "stream",
     "text": [
      "Positive Number\n"
     ]
    }
   ],
   "source": [
    "x = 100\n",
    "if x > 0:\n",
    "    print('Positive Number')\n",
    "elif x < 0:\n",
    "    print('Negative Number')\n",
    "else:\n",
    "    print ('Zero!')"
   ]
  },
  {
   "cell_type": "code",
   "execution_count": 22,
   "metadata": {
    "collapsed": false
   },
   "outputs": [
    {
     "name": "stdout",
     "output_type": "stream",
     "text": [
      "Positive Number\n",
      "Huge number!\n"
     ]
    }
   ],
   "source": [
    "# indentation is MANDATORY\n",
    "# blocks are closed by indentation level\n",
    "if x > 0:\n",
    "    print('Positive Number')\n",
    "    if x >= 100:\n",
    "        print('Huge number!')"
   ]
  },
  {
   "cell_type": "markdown",
   "metadata": {},
   "source": [
    "## More Flow Control ##"
   ]
  },
  {
   "cell_type": "code",
   "execution_count": 26,
   "metadata": {
    "collapsed": false
   },
   "outputs": [
    {
     "name": "stdout",
     "output_type": "stream",
     "text": [
      "10\n"
     ]
    }
   ],
   "source": [
    "# make a loop \n",
    "count = 0\n",
    "while count < 10:\n",
    "    # bad way\n",
    "    # count = count + 1\n",
    "    # better way\n",
    "    count += 1\n",
    "print(count)"
   ]
  },
  {
   "cell_type": "code",
   "execution_count": 29,
   "metadata": {
    "collapsed": false
   },
   "outputs": [
    {
     "name": "stdout",
     "output_type": "stream",
     "text": [
      "0\n",
      "1\n",
      "2\n",
      "3\n",
      "4\n"
     ]
    }
   ],
   "source": [
    "# use range\n",
    "for i in range(5):\n",
    "    print(i)"
   ]
  },
  {
   "cell_type": "markdown",
   "metadata": {},
   "source": [
    "__Important point__: in python, we always count from 0!"
   ]
  },
  {
   "cell_type": "code",
   "execution_count": 30,
   "metadata": {
    "collapsed": false
   },
   "outputs": [
    {
     "data": {
      "text/plain": [
       "type"
      ]
     },
     "execution_count": 30,
     "metadata": {},
     "output_type": "execute_result"
    }
   ],
   "source": [
    "# what is range?\n",
    "type(range)"
   ]
  },
  {
   "cell_type": "code",
   "execution_count": 33,
   "metadata": {
    "collapsed": true
   },
   "outputs": [],
   "source": [
    "range?"
   ]
  },
  {
   "cell_type": "code",
   "execution_count": 37,
   "metadata": {
    "collapsed": false
   },
   "outputs": [
    {
     "name": "stdout",
     "output_type": "stream",
     "text": [
      "dog 3\n",
      "cat 3\n",
      "fish 4\n"
     ]
    }
   ],
   "source": [
    "# iterate over a list we make up\n",
    "for pet in ['dog', 'cat', 'fish']:\n",
    "    print(pet, len(pet))"
   ]
  },
  {
   "cell_type": "markdown",
   "metadata": {},
   "source": [
    "What is the thing in brackets? __A list!__ Lists are one of the core python data structures.\n",
    "\n",
    "## Lists ##"
   ]
  },
  {
   "cell_type": "code",
   "execution_count": 64,
   "metadata": {
    "collapsed": false
   },
   "outputs": [
    {
     "data": {
      "text/plain": [
       "list"
      ]
     },
     "execution_count": 64,
     "metadata": {},
     "output_type": "execute_result"
    }
   ],
   "source": [
    "l = ['dog', 'cat', 'fish']\n",
    "type(l)"
   ]
  },
  {
   "cell_type": "code",
   "execution_count": 39,
   "metadata": {
    "collapsed": false
   },
   "outputs": [
    {
     "data": {
      "text/plain": [
       "['cat', 'dog', 'fish']"
      ]
     },
     "execution_count": 39,
     "metadata": {},
     "output_type": "execute_result"
    }
   ],
   "source": [
    "# list have lots of methods\n",
    "l.sort()\n",
    "l"
   ]
  },
  {
   "cell_type": "code",
   "execution_count": 46,
   "metadata": {
    "collapsed": false
   },
   "outputs": [
    {
     "data": {
      "text/plain": [
       "[0, 1, 2, 3, 4]"
      ]
     },
     "execution_count": 46,
     "metadata": {},
     "output_type": "execute_result"
    }
   ],
   "source": [
    "# we can convert a range to a list\n",
    "r = list(range(5))\n",
    "r"
   ]
  },
  {
   "cell_type": "code",
   "execution_count": 47,
   "metadata": {
    "collapsed": false
   },
   "outputs": [
    {
     "name": "stdout",
     "output_type": "stream",
     "text": [
      "p: 4\n",
      "r: [0, 1, 2, 3]\n",
      "p: 3\n",
      "r: [0, 1, 2]\n",
      "p: 2\n",
      "r: [0, 1]\n",
      "p: 1\n",
      "r: [0]\n",
      "p: 0\n",
      "r: []\n"
     ]
    }
   ],
   "source": [
    "while r:\n",
    "    p = r.pop()\n",
    "    print('p:', p)\n",
    "    print('r:', r)"
   ]
  },
  {
   "cell_type": "markdown",
   "metadata": {},
   "source": [
    "There are many different ways to interact with lists. Exploring them is part of the fun of python.\n",
    "\n",
    "__list.append(x)__ Add an item to the end of the list. Equivalent to a[len(a):] = [x].\n",
    "\n",
    "__list.extend(L)__ \n",
    "Extend the list by appending all the items in the given list. Equivalent to a[len(a):] = L.\n",
    "\n",
    "__list.insert(i, x)__ Insert an item at a given position. The first argument is the index of the element before which to insert, so a.insert(0, x) inserts at the front of the list, and a.insert(len(a), x) is equivalent to a.append(x).\n",
    "\n",
    "__list.remove(x)__ Remove the first item from the list whose value is x. It is an error if there is no such item.\n",
    "\n",
    "__list.pop([i])__ Remove the item at the given position in the list, and return it. If no index is specified, a.pop() removes and returns the last item in the list. (The square brackets around the i in the method signature denote that the parameter is optional, not that you should type square brackets at that position. You will see this notation frequently in the Python Library Reference.)\n",
    "\n",
    "__list.clear()__ Remove all items from the list. Equivalent to del a[:].\n",
    "\n",
    "__list.index(x)__ Return the index in the list of the first item whose value is x. It is an error if there is no such item.\n",
    "\n",
    "__list.count(x)__ Return the number of times x appears in the list.\n",
    "\n",
    "__list.sort()__ Sort the items of the list in place.\n",
    "\n",
    "__list.reverse()__ Reverse the elements of the list in place.\n",
    "\n",
    "__list.copy()__ Return a shallow copy of the list. Equivalent to a[:].\n",
    "\n",
    "\n",
    "Don't assume you know how list operations work!"
   ]
  },
  {
   "cell_type": "code",
   "execution_count": 52,
   "metadata": {
    "collapsed": false
   },
   "outputs": [
    {
     "data": {
      "text/plain": [
       "[0, 1, 2, 3, 4, 10, 11, 12, 13, 14]"
      ]
     },
     "execution_count": 52,
     "metadata": {},
     "output_type": "execute_result"
    }
   ],
   "source": [
    "# \"add\" two lists\n",
    "x = list(range(5))\n",
    "y = list(range(10,15))\n",
    "z = x + y\n",
    "z"
   ]
  },
  {
   "cell_type": "code",
   "execution_count": 55,
   "metadata": {
    "collapsed": false
   },
   "outputs": [
    {
     "name": "stdout",
     "output_type": "stream",
     "text": [
      "first 0\n",
      "last 14\n",
      "first 3 [0, 1, 2]\n",
      "last 3 [12, 13, 14]\n",
      "middle, skipping every other item [10, 12, 14]\n"
     ]
    }
   ],
   "source": [
    "# access items from a list\n",
    "print('first', z[0])\n",
    "print('last', z[-1])\n",
    "print('first 3', z[:3])\n",
    "print('last 3', z[-3:])\n",
    "print('middle, skipping every other item', z[5:10:2])"
   ]
  },
  {
   "cell_type": "markdown",
   "metadata": {},
   "source": [
    "__MEMORIZE THIS SYNTAX!__ It is central to so much of python and often proves confusing for users coming from other languages.\n",
    "\n",
    "In terms of set notation, python indexing is _left inclusive_, _right exclusive_. If you remember this, you will never go wrong."
   ]
  },
  {
   "cell_type": "code",
   "execution_count": 60,
   "metadata": {
    "collapsed": false
   },
   "outputs": [
    {
     "ename": "IndexError",
     "evalue": "list index out of range",
     "output_type": "error",
     "traceback": [
      "\u001b[0;31m---------------------------------------------------------------------------\u001b[0m",
      "\u001b[0;31mIndexError\u001b[0m                                Traceback (most recent call last)",
      "\u001b[0;32m<ipython-input-60-a6804f3b0ad3>\u001b[0m in \u001b[0;36m<module>\u001b[0;34m()\u001b[0m\n\u001b[1;32m      1\u001b[0m \u001b[0;31m# that means we get an error from the following\u001b[0m\u001b[0;34m\u001b[0m\u001b[0;34m\u001b[0m\u001b[0m\n\u001b[1;32m      2\u001b[0m \u001b[0mN\u001b[0m \u001b[0;34m=\u001b[0m \u001b[0mlen\u001b[0m\u001b[0;34m(\u001b[0m\u001b[0mz\u001b[0m\u001b[0;34m)\u001b[0m\u001b[0;34m\u001b[0m\u001b[0m\n\u001b[0;32m----> 3\u001b[0;31m \u001b[0mz\u001b[0m\u001b[0;34m[\u001b[0m\u001b[0mN\u001b[0m\u001b[0;34m]\u001b[0m\u001b[0;34m\u001b[0m\u001b[0m\n\u001b[0m",
      "\u001b[0;31mIndexError\u001b[0m: list index out of range"
     ]
    }
   ],
   "source": [
    "# that means we get an error from the following\n",
    "N = len(z)\n",
    "z[N]"
   ]
  },
  {
   "cell_type": "markdown",
   "metadata": {},
   "source": [
    "Lists are not meant for math! They don't have a datatype."
   ]
  },
  {
   "cell_type": "code",
   "execution_count": 58,
   "metadata": {
    "collapsed": false
   },
   "outputs": [
    {
     "data": {
      "text/plain": [
       "[0, 1, 2, 3, 'fish', 10, 11, 12, 13, 14]"
      ]
     },
     "execution_count": 58,
     "metadata": {},
     "output_type": "execute_result"
    }
   ],
   "source": [
    "z[4] = 'fish'\n",
    "z"
   ]
  },
  {
   "cell_type": "markdown",
   "metadata": {},
   "source": [
    "Python is full of tricks for iterating and working with lists"
   ]
  },
  {
   "cell_type": "code",
   "execution_count": 59,
   "metadata": {
    "collapsed": false
   },
   "outputs": [
    {
     "data": {
      "text/plain": [
       "[0, 1, 4, 9, 16]"
      ]
     },
     "execution_count": 59,
     "metadata": {},
     "output_type": "execute_result"
    }
   ],
   "source": [
    "# a cool python trick: list comprehension\n",
    "squares = [n**2 for n in range(5)]\n",
    "squares"
   ]
  },
  {
   "cell_type": "code",
   "execution_count": 75,
   "metadata": {
    "collapsed": false
   },
   "outputs": [
    {
     "name": "stdout",
     "output_type": "stream",
     "text": [
      "first: 0 second: 10\n",
      "first: 1 second: 11\n",
      "first: 2 second: 12\n",
      "first: 3 second: 13\n",
      "first: 4 second: 14\n"
     ]
    }
   ],
   "source": [
    "# iterate over two lists together uzing zip\n",
    "for item1, item2 in zip(x,y):\n",
    "    print('first:', item1, 'second:', item2)"
   ]
  },
  {
   "cell_type": "markdown",
   "metadata": {},
   "source": [
    "## Other Data Structures ##\n",
    "\n",
    "We are almost there. We have the building blocks we need to do basic programming. But python has some other data structures we need to learn about.\n",
    "\n",
    "## Tuples ##\n",
    "\n",
    "Tuples are similar to lists, but they are _immutable_—they can't be extended or modified. What is the point of this? Generally speaking: to pack together inhomogeneous data. Tuples can then be unpacked and distributed by other parts of your code.\n",
    "\n",
    "Tuples may seem confusing at first, but with time you will come to appreciate them."
   ]
  },
  {
   "cell_type": "code",
   "execution_count": 69,
   "metadata": {
    "collapsed": false
   },
   "outputs": [
    {
     "data": {
      "text/plain": [
       "tuple"
      ]
     },
     "execution_count": 69,
     "metadata": {},
     "output_type": "execute_result"
    }
   ],
   "source": [
    "# tuples are created with parentheses, or just commas\n",
    "a = ('Ryan', 33, True)\n",
    "b = 'Takaya', 25, False\n",
    "type(b)"
   ]
  },
  {
   "cell_type": "code",
   "execution_count": 70,
   "metadata": {
    "collapsed": false
   },
   "outputs": [
    {
     "name": "stdout",
     "output_type": "stream",
     "text": [
      "33\n"
     ]
    }
   ],
   "source": [
    "# can be indexed like arrays\n",
    "print(a[1]) # not the first element!"
   ]
  },
  {
   "cell_type": "code",
   "execution_count": 71,
   "metadata": {
    "collapsed": true
   },
   "outputs": [],
   "source": [
    "# and they can be unpacked\n",
    "name, age, status = a"
   ]
  },
  {
   "cell_type": "markdown",
   "metadata": {},
   "source": [
    "## Dictionaries ##\n",
    "\n",
    "This is an extremely useful data structure. It maps __keys__ to __values__.\n",
    "\n",
    "Dictionaries are unordered!"
   ]
  },
  {
   "cell_type": "code",
   "execution_count": 50,
   "metadata": {
    "collapsed": false
   },
   "outputs": [
    {
     "data": {
      "text/plain": [
       "{'age': 25, 'name': 'Takaya'}"
      ]
     },
     "execution_count": 50,
     "metadata": {},
     "output_type": "execute_result"
    }
   ],
   "source": [
    "# different ways to create dictionaries\n",
    "d = {'name': 'Ryan', 'age': 33}\n",
    "e = dict(name='Takaya', age=25)\n",
    "e"
   ]
  },
  {
   "cell_type": "code",
   "execution_count": 82,
   "metadata": {
    "collapsed": false
   },
   "outputs": [
    {
     "data": {
      "text/plain": [
       "'Ryan'"
      ]
     },
     "execution_count": 82,
     "metadata": {},
     "output_type": "execute_result"
    }
   ],
   "source": [
    "# access a value\n",
    "d['name']"
   ]
  },
  {
   "cell_type": "markdown",
   "metadata": {},
   "source": [
    "Square brackets ``[...]`` are python for \"get item\" in many different contexts."
   ]
  },
  {
   "cell_type": "code",
   "execution_count": 79,
   "metadata": {
    "collapsed": false
   },
   "outputs": [
    {
     "name": "stdout",
     "output_type": "stream",
     "text": [
      "True\n",
      "False\n"
     ]
    }
   ],
   "source": [
    "# test for the presence of a key\n",
    "print('age' in d)\n",
    "print('height' in e)"
   ]
  },
  {
   "cell_type": "code",
   "execution_count": 83,
   "metadata": {
    "collapsed": false
   },
   "outputs": [
    {
     "ename": "KeyError",
     "evalue": "'height'",
     "output_type": "error",
     "traceback": [
      "\u001b[0;31m---------------------------------------------------------------------------\u001b[0m",
      "\u001b[0;31mKeyError\u001b[0m                                  Traceback (most recent call last)",
      "\u001b[0;32m<ipython-input-83-261ef018477b>\u001b[0m in \u001b[0;36m<module>\u001b[0;34m()\u001b[0m\n\u001b[1;32m      1\u001b[0m \u001b[0;31m# try to access a non-existant key\u001b[0m\u001b[0;34m\u001b[0m\u001b[0;34m\u001b[0m\u001b[0m\n\u001b[0;32m----> 2\u001b[0;31m \u001b[0md\u001b[0m\u001b[0;34m[\u001b[0m\u001b[0;34m'height'\u001b[0m\u001b[0;34m]\u001b[0m\u001b[0;34m\u001b[0m\u001b[0m\n\u001b[0m",
      "\u001b[0;31mKeyError\u001b[0m: 'height'"
     ]
    }
   ],
   "source": [
    "# try to access a non-existant key\n",
    "d['height']"
   ]
  },
  {
   "cell_type": "code",
   "execution_count": 84,
   "metadata": {
    "collapsed": false
   },
   "outputs": [
    {
     "data": {
      "text/plain": [
       "{'age': 33, 'height': (5, 11), 'name': 'Ryan'}"
      ]
     },
     "execution_count": 84,
     "metadata": {},
     "output_type": "execute_result"
    }
   ],
   "source": [
    "# add a new key\n",
    "d['height'] = (5,11) # a tuple\n",
    "d"
   ]
  },
  {
   "cell_type": "code",
   "execution_count": 86,
   "metadata": {
    "collapsed": false
   },
   "outputs": [
    {
     "data": {
      "text/plain": [
       "{99: 'ninety nine', 'age': 33, 'name': 'Ryan', 'height': (5, 11)}"
      ]
     },
     "execution_count": 86,
     "metadata": {},
     "output_type": "execute_result"
    }
   ],
   "source": [
    "# keys don't have to be strings\n",
    "d[99] = 'ninety nine'\n",
    "d"
   ]
  },
  {
   "cell_type": "code",
   "execution_count": 87,
   "metadata": {
    "collapsed": false
   },
   "outputs": [
    {
     "name": "stdout",
     "output_type": "stream",
     "text": [
      "99 ninety nine\n",
      "age 33\n",
      "name Ryan\n",
      "height (5, 11)\n"
     ]
    }
   ],
   "source": [
    "# iterate over keys\n",
    "for k in d:\n",
    "    print(k, d[k])"
   ]
  },
  {
   "cell_type": "code",
   "execution_count": 88,
   "metadata": {
    "collapsed": false
   },
   "outputs": [
    {
     "name": "stdout",
     "output_type": "stream",
     "text": [
      "99 ninety nine\n",
      "age 33\n",
      "name Ryan\n",
      "height (5, 11)\n"
     ]
    }
   ],
   "source": [
    "# better way\n",
    "### python 2\n",
    "### for key, val in d.iteritems()\n",
    "for key, val in d.items():\n",
    "    print(key, val)"
   ]
  },
  {
   "cell_type": "markdown",
   "metadata": {},
   "source": [
    "## Functions ##\n",
    "\n",
    "Functions are a central part of advanced python programming. You should try to write and use your own functions as often as possible."
   ]
  },
  {
   "cell_type": "code",
   "execution_count": 121,
   "metadata": {
    "collapsed": false
   },
   "outputs": [],
   "source": [
    "# define a function\n",
    "def say_hello():\n",
    "    \"\"\"Return the word hello.\"\"\"\n",
    "    return 'Hello'"
   ]
  },
  {
   "cell_type": "code",
   "execution_count": 122,
   "metadata": {
    "collapsed": false
   },
   "outputs": [
    {
     "data": {
      "text/plain": [
       "function"
      ]
     },
     "execution_count": 122,
     "metadata": {},
     "output_type": "execute_result"
    }
   ],
   "source": [
    "# functions are also objects\n",
    "type(say_hello)"
   ]
  },
  {
   "cell_type": "code",
   "execution_count": 119,
   "metadata": {
    "collapsed": false
   },
   "outputs": [
    {
     "data": {
      "text/plain": [
       "'Hello'"
      ]
     },
     "execution_count": 119,
     "metadata": {},
     "output_type": "execute_result"
    }
   ],
   "source": [
    "# this does\n",
    "say_hello()"
   ]
  },
  {
   "cell_type": "code",
   "execution_count": 113,
   "metadata": {
    "collapsed": false
   },
   "outputs": [
    {
     "data": {
      "text/plain": [
       "'Hello'"
      ]
     },
     "execution_count": 113,
     "metadata": {},
     "output_type": "execute_result"
    }
   ],
   "source": [
    "# assign the result to something\n",
    "res = say_hello()\n",
    "res"
   ]
  },
  {
   "cell_type": "code",
   "execution_count": 54,
   "metadata": {
    "collapsed": true
   },
   "outputs": [],
   "source": [
    "# take some arguments\n",
    "def say_hello_to(name):\n",
    "    \"\"\"Return a greeting to `name`\"\"\"\n",
    "    return 'Hello ' + name"
   ]
  },
  {
   "cell_type": "code",
   "execution_count": 55,
   "metadata": {
    "collapsed": false
   },
   "outputs": [
    {
     "data": {
      "text/plain": [
       "'Hello World'"
      ]
     },
     "execution_count": 55,
     "metadata": {},
     "output_type": "execute_result"
    }
   ],
   "source": [
    "# intended usage\n",
    "say_hello_to('World')"
   ]
  },
  {
   "cell_type": "code",
   "execution_count": 56,
   "metadata": {
    "collapsed": false
   },
   "outputs": [
    {
     "ename": "TypeError",
     "evalue": "cannot concatenate 'str' and 'int' objects",
     "output_type": "error",
     "traceback": [
      "\u001b[1;31m---------------------------------------------------------------------------\u001b[0m",
      "\u001b[1;31mTypeError\u001b[0m                                 Traceback (most recent call last)",
      "\u001b[1;32m<ipython-input-56-56dd0f5596c8>\u001b[0m in \u001b[0;36m<module>\u001b[1;34m()\u001b[0m\n\u001b[1;32m----> 1\u001b[1;33m \u001b[0msay_hello_to\u001b[0m\u001b[1;33m(\u001b[0m\u001b[1;36m10\u001b[0m\u001b[1;33m)\u001b[0m\u001b[1;33m\u001b[0m\u001b[0m\n\u001b[0m",
      "\u001b[1;32m<ipython-input-54-a444b0f12be2>\u001b[0m in \u001b[0;36msay_hello_to\u001b[1;34m(name)\u001b[0m\n\u001b[0;32m      2\u001b[0m \u001b[1;32mdef\u001b[0m \u001b[0msay_hello_to\u001b[0m\u001b[1;33m(\u001b[0m\u001b[0mname\u001b[0m\u001b[1;33m)\u001b[0m\u001b[1;33m:\u001b[0m\u001b[1;33m\u001b[0m\u001b[0m\n\u001b[0;32m      3\u001b[0m     \u001b[1;34m\"\"\"Return a greeting to `name`\"\"\"\u001b[0m\u001b[1;33m\u001b[0m\u001b[0m\n\u001b[1;32m----> 4\u001b[1;33m     \u001b[1;32mreturn\u001b[0m \u001b[1;34m'Hello '\u001b[0m \u001b[1;33m+\u001b[0m \u001b[0mname\u001b[0m\u001b[1;33m\u001b[0m\u001b[0m\n\u001b[0m",
      "\u001b[1;31mTypeError\u001b[0m: cannot concatenate 'str' and 'int' objects"
     ]
    }
   ],
   "source": [
    "say_hello_to(10)"
   ]
  },
  {
   "cell_type": "code",
   "execution_count": 57,
   "metadata": {
    "collapsed": true
   },
   "outputs": [],
   "source": [
    "# redefine the function\n",
    "def say_hello_to(name):\n",
    "    \"\"\"Return a greeting to `name`\"\"\"\n",
    "    return 'Hello ' + str(name)"
   ]
  },
  {
   "cell_type": "code",
   "execution_count": 62,
   "metadata": {
    "collapsed": false
   },
   "outputs": [
    {
     "data": {
      "text/plain": [
       "'Hello 10'"
      ]
     },
     "execution_count": 62,
     "metadata": {},
     "output_type": "execute_result"
    }
   ],
   "source": [
    "say_hello_to(10)"
   ]
  },
  {
   "cell_type": "code",
   "execution_count": 63,
   "metadata": {
    "collapsed": false
   },
   "outputs": [],
   "source": [
    "# take an optional keyword argument\n",
    "def say_hello_or_hola(name, portuguese=False):\n",
    "    \"\"\"Say hello in multiple languages.\"\"\"\n",
    "    if portuguese:\n",
    "        greeting = 'Ola '\n",
    "    else:\n",
    "        greeting = 'Hello '\n",
    "    return greeting + name"
   ]
  },
  {
   "cell_type": "code",
   "execution_count": 64,
   "metadata": {
    "collapsed": false
   },
   "outputs": [
    {
     "name": "stdout",
     "output_type": "stream",
     "text": [
      "Hello John\n",
      "Ola Joao\n"
     ]
    }
   ],
   "source": [
    "print(say_hello_or_hola('John'))\n",
    "print(say_hello_or_hola('Joao', portuguese=True))\n"
   ]
  },
  {
   "cell_type": "markdown",
   "metadata": {},
   "source": [
    "There is a lot more about functions, but we need to move on. For those of you interested in learning more about functions, check [this tutorial](http://www.tutorialspoint.com/python/python_functions.htm)."
   ]
  },
  {
   "cell_type": "markdown",
   "metadata": {},
   "source": [
    "# Numpy and Matplotlib #\n",
    "\n",
    "These are two of the most fundamental parts of the scientific python \"ecosystem\". Most everything else is built on top of them."
   ]
  }
 ],
 "metadata": {
  "kernelspec": {
   "display_name": "Python 2",
   "language": "python",
   "name": "python2"
  },
  "language_info": {
   "codemirror_mode": {
    "name": "ipython",
    "version": 2
   },
   "file_extension": ".py",
   "mimetype": "text/x-python",
   "name": "python",
   "nbconvert_exporter": "python",
   "pygments_lexer": "ipython2",
   "version": "2.7.9"
  }
 },
 "nbformat": 4,
 "nbformat_minor": 0
}
